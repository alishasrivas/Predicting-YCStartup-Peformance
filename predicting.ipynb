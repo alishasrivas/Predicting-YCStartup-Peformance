{
 "cells": [
  {
   "cell_type": "markdown",
   "metadata": {},
   "source": [
    "# Predicting YCombinator Startup Performance"
   ]
  },
  {
   "cell_type": "markdown",
   "metadata": {},
   "source": [
    "### Load dataset"
   ]
  },
  {
   "cell_type": "code",
   "execution_count": 2,
   "metadata": {},
   "outputs": [],
   "source": [
    "import pandas as pd\n",
    "import os"
   ]
  },
  {
   "cell_type": "code",
   "execution_count": 36,
   "metadata": {},
   "outputs": [
    {
     "name": "stdout",
     "output_type": "stream",
     "text": [
      "Final merged DataFrame:\n",
      "   id         badge_1         badge_2 badge_3 badge_4        name        slug  \\\n",
      "0   5        isHiring             NaN     NaN     NaN  CircuitHub  circuithub   \n",
      "1   8      topCompany  highlightWomen     NaN     NaN    PlanGrid    plangrid   \n",
      "2  10  highlightWomen             NaN     NaN     NaN    The Muse    the-muse   \n",
      "3  11  highlightBlack             NaN     NaN     NaN     SendHub     sendhub   \n",
      "4  19        isHiring             NaN     NaN     NaN     Rescale     rescale   \n",
      "\n",
      "                  website                                       smallLogoUrl  \\\n",
      "0  https://circuithub.com  https://bookface-images.s3.amazonaws.com/small...   \n",
      "1     http://plangrid.com  https://bookface-images.s3.amazonaws.com/small...   \n",
      "2      http://themuse.com  https://bookface-images.s3.amazonaws.com/small...   \n",
      "3      http://sendhub.com  https://bookface-images.s3.amazonaws.com/small...   \n",
      "4     https://rescale.com  https://bookface-images.s3.amazonaws.com/small...   \n",
      "\n",
      "                                            oneLiner  ...  \\\n",
      "0                     Electronics factory automation  ...   \n",
      "1  Mobile applications for the construction indus...  ...   \n",
      "2  The Muse is values-based job search & hiring f...  ...   \n",
      "3     Simple Business SMS. SMBs to Large Enterprise.  ...   \n",
      "4     High Performance Computing Built for the Cloud  ...   \n",
      "\n",
      "                        industry_2            region  \\\n",
      "0       Manufacturing and Robotics            Europe   \n",
      "1                     Construction  America / Canada   \n",
      "2            Recruiting and Talent  America / Canada   \n",
      "3                     Productivity  America / Canada   \n",
      "4  Engineering, Product and Design  America / Canada   \n",
      "\n",
      "                    country                 address            tag_1  \\\n",
      "0            United Kingdom              London, UK        Hard Tech   \n",
      "1  United States of America  San Francisco, CA, USA     Construction   \n",
      "2  United States of America       New York, NY, USA      Marketplace   \n",
      "3  United States of America     Pleasanton, CA, USA        Messaging   \n",
      "4  United States of America  San Francisco, CA, USA  Cloud Computing   \n",
      "\n",
      "        tag_2       tag_3 tag_4 tag_5 tag_6  \n",
      "0    Hardware    Robotics   NaN   NaN   NaN  \n",
      "1         NaN         NaN   NaN   NaN   NaN  \n",
      "2        SaaS  Recruiting   NaN   NaN   NaN  \n",
      "3  Enterprise         SMB   NaN   NaN   NaN  \n",
      "4         NaN         NaN   NaN   NaN   NaN  \n",
      "\n",
      "[5 rows x 26 columns]\n"
     ]
    }
   ],
   "source": [
    "badges = pd.read_csv('/Users/alishasrivastava/Downloads/archive/badges.csv')\n",
    "companies = pd.read_csv('/Users/alishasrivastava/Downloads/archive/companies.csv')\n",
    "founders = pd.read_csv('/Users/alishasrivastava/Downloads/archive/founders.csv')\n",
    "industries = pd.read_csv('/Users/alishasrivastava/Downloads/archive/industries.csv')\n",
    "prior_companies = pd.read_csv('/Users/alishasrivastava/Downloads/archive/prior_companies.csv')\n",
    "regions = pd.read_csv('/Users/alishasrivastava/Downloads/archive/regions.csv')\n",
    "schools = pd.read_csv('/Users/alishasrivastava/Downloads/archive/schools.csv')\n",
    "tags = pd.read_csv('/Users/alishasrivastava/Downloads/archive/tags.csv')\n",
    "\n",
    "badges['badge_num'] = badges.groupby('id').cumcount() + 1\n",
    "df_pivot = badges.pivot(index='id', columns='badge_num', values='badge')\n",
    "df_pivot.columns = [f'badge_{int(col)}' for col in df_pivot.columns]\n",
    "badges = df_pivot.reset_index()\n",
    "\n",
    "industries['industry_num'] = industries.groupby('id').cumcount() + 1\n",
    "df_pivot = industries.pivot(index='id', columns='industry_num', values='industry')\n",
    "df_pivot.columns = [f'industry_{int(col)}' for col in df_pivot.columns]\n",
    "industries = df_pivot.reset_index()\n",
    "\n",
    "tags['tag_num'] = tags.groupby('id').cumcount() + 1\n",
    "df_pivot = tags.pivot(index='id', columns='tag_num', values='tag')\n",
    "df_pivot.columns = [f'tag_{int(col)}' for col in df_pivot.columns]\n",
    "tags = df_pivot.reset_index()\n",
    "\n",
    "founder_dfs = [founders, schools, prior_companies]\n",
    "company_dfs = [badges, companies, industries, regions, tags]\n",
    "\n",
    "# Drop 'Unnamed: 0' columns if they exist in any DataFrame\n",
    "for i, df in enumerate(company_dfs):\n",
    "    if 'Unnamed: 0' in df.columns:\n",
    "        df.drop(columns=['Unnamed: 0'], inplace=True)\n",
    "\n",
    "merged_df = company_dfs[0]\n",
    "\n",
    "for i, df in enumerate(company_dfs[1:], start=1):\n",
    "    merged_df = pd.merge(merged_df, df, on='id', how='outer')\n",
    "\n",
    "# Final merged DataFrame\n",
    "print(\"Final merged DataFrame:\")\n",
    "print(merged_df.head())\n"
   ]
  },
  {
   "cell_type": "markdown",
   "metadata": {},
   "source": [
    "### List dataset variables "
   ]
  },
  {
   "cell_type": "code",
   "execution_count": null,
   "metadata": {},
   "outputs": [],
   "source": []
  },
  {
   "cell_type": "markdown",
   "metadata": {},
   "source": [
    "### Visualize Dataset"
   ]
  },
  {
   "cell_type": "code",
   "execution_count": null,
   "metadata": {},
   "outputs": [],
   "source": []
  },
  {
   "cell_type": "markdown",
   "metadata": {},
   "source": [
    "### Create variables"
   ]
  }
 ],
 "metadata": {
  "kernelspec": {
   "display_name": "Python 3",
   "language": "python",
   "name": "python3"
  },
  "language_info": {
   "codemirror_mode": {
    "name": "ipython",
    "version": 3
   },
   "file_extension": ".py",
   "mimetype": "text/x-python",
   "name": "python",
   "nbconvert_exporter": "python",
   "pygments_lexer": "ipython3",
   "version": "3.9.6"
  }
 },
 "nbformat": 4,
 "nbformat_minor": 2
}

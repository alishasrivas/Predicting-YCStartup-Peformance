{
 "cells": [
  {
   "cell_type": "markdown",
   "metadata": {},
   "source": [
    "# Predicting YCombinator Startup Performance"
   ]
  },
  {
   "cell_type": "markdown",
   "metadata": {},
   "source": [
    "### Load dataset"
   ]
  },
  {
   "cell_type": "code",
   "execution_count": 2,
   "metadata": {},
   "outputs": [
    {
     "name": "stderr",
     "output_type": "stream",
     "text": [
      "/opt/miniconda3/lib/python3.12/site-packages/fuzzywuzzy/fuzz.py:11: UserWarning: Using slow pure-python SequenceMatcher. Install python-Levenshtein to remove this warning\n",
      "  warnings.warn('Using slow pure-python SequenceMatcher. Install python-Levenshtein to remove this warning')\n"
     ]
    }
   ],
   "source": [
    "import pandas as pd\n",
    "import os\n",
    "from fuzzywuzzy import process\n",
    "from fuzzywuzzy import fuzz\n"
   ]
  },
  {
   "cell_type": "code",
   "execution_count": 11,
   "metadata": {},
   "outputs": [
    {
     "name": "stderr",
     "output_type": "stream",
     "text": [
      "WARNING:root:Applied processor reduces input query to empty string, all comparisons will have score 0. [Query: '⦿⧖']\n",
      "WARNING:root:Applied processor reduces input query to empty string, all comparisons will have score 0. [Query: '-']\n",
      "WARNING:root:Applied processor reduces input query to empty string, all comparisons will have score 0. [Query: '-']\n",
      "WARNING:root:Applied processor reduces input query to empty string, all comparisons will have score 0. [Query: '-']\n",
      "WARNING:root:Applied processor reduces input query to empty string, all comparisons will have score 0. [Query: '⦿⧖']\n",
      "WARNING:root:Applied processor reduces input query to empty string, all comparisons will have score 0. [Query: '⦿⧖']\n"
     ]
    },
    {
     "name": "stdout",
     "output_type": "stream",
     "text": [
      "Final merged DataFrame:\n"
     ]
    },
    {
     "data": {
      "text/html": [
       "<div>\n",
       "<style scoped>\n",
       "    .dataframe tbody tr th:only-of-type {\n",
       "        vertical-align: middle;\n",
       "    }\n",
       "\n",
       "    .dataframe tbody tr th {\n",
       "        vertical-align: top;\n",
       "    }\n",
       "\n",
       "    .dataframe thead th {\n",
       "        text-align: right;\n",
       "    }\n",
       "</style>\n",
       "<table border=\"1\" class=\"dataframe\">\n",
       "  <thead>\n",
       "    <tr style=\"text-align: right;\">\n",
       "      <th></th>\n",
       "      <th>hnid</th>\n",
       "      <th>company</th>\n",
       "      <th>is_faang</th>\n",
       "    </tr>\n",
       "  </thead>\n",
       "  <tbody>\n",
       "    <tr>\n",
       "      <th>0</th>\n",
       "      <td>110</td>\n",
       "      <td>Khoj</td>\n",
       "      <td>False</td>\n",
       "    </tr>\n",
       "    <tr>\n",
       "      <th>1</th>\n",
       "      <td>110</td>\n",
       "      <td>Microsoft</td>\n",
       "      <td>True</td>\n",
       "    </tr>\n",
       "    <tr>\n",
       "      <th>2</th>\n",
       "      <td>110</td>\n",
       "      <td>Hillhacks</td>\n",
       "      <td>False</td>\n",
       "    </tr>\n",
       "    <tr>\n",
       "      <th>3</th>\n",
       "      <td>__JW__</td>\n",
       "      <td>Union54</td>\n",
       "      <td>False</td>\n",
       "    </tr>\n",
       "    <tr>\n",
       "      <th>4</th>\n",
       "      <td>__sy__</td>\n",
       "      <td>Seam</td>\n",
       "      <td>False</td>\n",
       "    </tr>\n",
       "    <tr>\n",
       "      <th>...</th>\n",
       "      <td>...</td>\n",
       "      <td>...</td>\n",
       "      <td>...</td>\n",
       "    </tr>\n",
       "    <tr>\n",
       "      <th>32607</th>\n",
       "      <td>zxie</td>\n",
       "      <td>NASA Jet Propulsion Laboratory</td>\n",
       "      <td>False</td>\n",
       "    </tr>\n",
       "    <tr>\n",
       "      <th>32608</th>\n",
       "      <td>zyro</td>\n",
       "      <td>Heroic Labs</td>\n",
       "      <td>False</td>\n",
       "    </tr>\n",
       "    <tr>\n",
       "      <th>32609</th>\n",
       "      <td>zyro</td>\n",
       "      <td>Masabi</td>\n",
       "      <td>False</td>\n",
       "    </tr>\n",
       "    <tr>\n",
       "      <th>32610</th>\n",
       "      <td>zyro</td>\n",
       "      <td>M&amp;G</td>\n",
       "      <td>False</td>\n",
       "    </tr>\n",
       "    <tr>\n",
       "      <th>32611</th>\n",
       "      <td>zzwitz</td>\n",
       "      <td>Helium</td>\n",
       "      <td>False</td>\n",
       "    </tr>\n",
       "  </tbody>\n",
       "</table>\n",
       "<p>32612 rows × 3 columns</p>\n",
       "</div>"
      ],
      "text/plain": [
       "         hnid                         company  is_faang\n",
       "0         110                            Khoj     False\n",
       "1         110                       Microsoft      True\n",
       "2         110                       Hillhacks     False\n",
       "3      __JW__                         Union54     False\n",
       "4      __sy__                            Seam     False\n",
       "...       ...                             ...       ...\n",
       "32607    zxie  NASA Jet Propulsion Laboratory     False\n",
       "32608    zyro                     Heroic Labs     False\n",
       "32609    zyro                          Masabi     False\n",
       "32610    zyro                             M&G     False\n",
       "32611  zzwitz                          Helium     False\n",
       "\n",
       "[32612 rows x 3 columns]"
      ]
     },
     "execution_count": 11,
     "metadata": {},
     "output_type": "execute_result"
    }
   ],
   "source": [
    "badges = pd.read_csv('archive/badges.csv')\n",
    "companies = pd.read_csv('archive/companies.csv')\n",
    "founders = pd.read_csv('archive/founders.csv')\n",
    "industries = pd.read_csv('archive/industries.csv')\n",
    "prior_companies = pd.read_csv('archive/prior_companies.csv')\n",
    "regions = pd.read_csv('archive/regions.csv')\n",
    "schools = pd.read_csv('archive/schools.csv')\n",
    "tags = pd.read_csv('archive/tags.csv')\n",
    "\n",
    "badges['badge_num'] = badges.groupby('id').cumcount() + 1\n",
    "df_pivot = badges.pivot(index='id', columns='badge_num', values='badge')\n",
    "df_pivot.columns = [f'badge_{int(col)}' for col in df_pivot.columns]\n",
    "badges = df_pivot.reset_index()\n",
    "\n",
    "industries['industry_num'] = industries.groupby('id').cumcount() + 1\n",
    "df_pivot = industries.pivot(index='id', columns='industry_num', values='industry')\n",
    "df_pivot.columns = [f'industry_{int(col)}' for col in df_pivot.columns]\n",
    "industries = df_pivot.reset_index()\n",
    "\n",
    "tags['tag_num'] = tags.groupby('id').cumcount() + 1\n",
    "df_pivot = tags.pivot(index='id', columns='tag_num', values='tag')\n",
    "df_pivot.columns = [f'tag_{int(col)}' for col in df_pivot.columns]\n",
    "tags = df_pivot.reset_index()\n",
    "\n",
    "schools = schools.drop_duplicates(subset='hnid', keep='first')\n",
    "ivy_league_schools = [\n",
    "    'Harvard University',\n",
    "    'Yale University',\n",
    "    'Princeton University',\n",
    "    'Columbia University',\n",
    "    'University of Pennsylvania',\n",
    "    'Dartmouth College',\n",
    "    'Brown University',\n",
    "    'Cornell University'\n",
    "]\n",
    "\n",
    "#TODO why all false?\n",
    "def is_ivy_league(school_name):\n",
    "    # Strip whitespace and use fuzzy matching\n",
    "    school_name = str(school_name)\n",
    "    school_name = school_name.strip().lower()\n",
    "    # Get the best match and its score\n",
    "    best_match, score = process.extractOne(school_name, ivy_league_schools, scorer=fuzz.ratio)\n",
    "    return score >= 80\n",
    "\n",
    "schools['is_ivy_league'] = schools['school'].apply(is_ivy_league)\n",
    "faang_companies = [\n",
    "    'Facebook',\n",
    "    'Apple',\n",
    "    'Meta',\n",
    "    'Amazon',\n",
    "    'Netflix',\n",
    "    'Microsoft',\n",
    "    'Google'\n",
    "]\n",
    "def is_faang(company_name):\n",
    "    company_name = str(company_name)\n",
    "    company_name = company_name.strip().lower()\n",
    "    best_match, score = process.extractOne(company_name, faang_companies, scorer=fuzz.ratio)\n",
    "    return score >= 80  # Threshold for matching\n",
    "\n",
    "prior_companies['is_faang'] = prior_companies['company'].apply(is_faang)\n",
    "\n",
    "founder_dfs = [founders, schools, prior_companies]\n",
    "company_dfs = [badges, companies, industries, regions, tags]\n",
    "\n",
    "for i, df in enumerate(company_dfs):\n",
    "    if 'Unnamed: 0' in df.columns:\n",
    "        df.drop(columns=['Unnamed: 0'], inplace=True)\n",
    "\n",
    "merged_df = company_dfs[0]\n",
    "\n",
    "for i, df in enumerate(company_dfs[1:], start=1):\n",
    "    merged_df = pd.merge(merged_df, df, on='id', how='inner')\n",
    "\n",
    "merged_df.rename(columns={'slug': 'company_slug'}, inplace=True)\n",
    "merged_df = pd.merge(merged_df, founders, on='company_slug', how='inner')\n",
    "#merged_df = pd.merge(merged_df, schools, on='hnid', how='inner')\n",
    "#merged_df = pd.merge(merged_df, prior_companies, on='hnid', how='inner')\n",
    "\n",
    "# Final merged DataFrame\n",
    "print(\"Final merged DataFrame:\")\n",
    "prior_companies\n"
   ]
  },
  {
   "cell_type": "markdown",
   "metadata": {},
   "source": [
    "### List dataset variables "
   ]
  },
  {
   "cell_type": "code",
   "execution_count": null,
   "metadata": {},
   "outputs": [],
   "source": []
  },
  {
   "cell_type": "markdown",
   "metadata": {},
   "source": [
    "### Visualize Dataset"
   ]
  },
  {
   "cell_type": "code",
   "execution_count": null,
   "metadata": {},
   "outputs": [],
   "source": []
  },
  {
   "cell_type": "markdown",
   "metadata": {},
   "source": [
    "### Create variables"
   ]
  }
 ],
 "metadata": {
  "kernelspec": {
   "display_name": "biopset1",
   "language": "python",
   "name": "biopset1"
  },
  "language_info": {
   "codemirror_mode": {
    "name": "ipython",
    "version": 3
   },
   "file_extension": ".py",
   "mimetype": "text/x-python",
   "name": "python",
   "nbconvert_exporter": "python",
   "pygments_lexer": "ipython3",
   "version": "3.12.2"
  }
 },
 "nbformat": 4,
 "nbformat_minor": 2
}
